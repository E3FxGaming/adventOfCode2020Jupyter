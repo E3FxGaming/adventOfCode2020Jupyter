{
 "cells": [
  {
   "cell_type": "markdown",
   "metadata": {},
   "source": [
    "# Day 25: Combo Breaker"
   ]
  },
  {
   "cell_type": "markdown",
   "metadata": {},
   "source": [
    "Day 25 had such a small input, that I decided to just write them into the code:"
   ]
  },
  {
   "cell_type": "code",
   "execution_count": 1,
   "metadata": {},
   "outputs": [],
   "source": [
    "val cardPublicKey = 971766\n",
    "val doorPublicKey = 20089533"
   ]
  },
  {
   "cell_type": "markdown",
   "metadata": {},
   "source": [
    "We were also given a subject number `7`"
   ]
  },
  {
   "cell_type": "code",
   "execution_count": 2,
   "metadata": {},
   "outputs": [],
   "source": [
    "val subjectNumber = 7"
   ]
  },
  {
   "cell_type": "markdown",
   "metadata": {},
   "source": [
    "## Public key -> loop size"
   ]
  },
  {
   "cell_type": "markdown",
   "metadata": {},
   "source": [
    "Getting the loop size with a public key is a simple procedure that is explained in detail in the task."
   ]
  },
  {
   "cell_type": "code",
   "execution_count": 3,
   "metadata": {},
   "outputs": [],
   "source": [
    "fun publicKeyToLoopSize(publicKey: Int): Int {\n",
    "    val publicKeyAsLong = publicKey.toLong()\n",
    "    var iterations = 0\n",
    "    var currentValue = 1L\n",
    "\n",
    "    while (currentValue != publicKeyAsLong) {\n",
    "        currentValue *= subjectNumber\n",
    "        currentValue %= 20201227\n",
    "        iterations++\n",
    "    }\n",
    "\n",
    "    return iterations\n",
    "}"
   ]
  },
  {
   "cell_type": "markdown",
   "metadata": {},
   "source": [
    "We can test that this function works as intende by using the examples given in the task:\n",
    "\n",
    "- the public key 5764801 shoud get us a loop size of 8\n",
    "- the public key 17807724 should get us a loop size of 11\n",
    "\n",
    "Whether it's the card or door public key is irrelavant, since both use the same public key generation system."
   ]
  },
  {
   "cell_type": "code",
   "execution_count": 4,
   "metadata": {},
   "outputs": [
    {
     "name": "stdout",
     "output_type": "stream",
     "text": [
      "Card has loop size 8: true\n",
      "Door has loop size 11: true\n"
     ]
    }
   ],
   "source": [
    "val testCardPublicKeyToLoopSize = publicKeyToLoopSize(5764801)\n",
    "val testDoorPublicKeyToLoopSize = publicKeyToLoopSize(17807724)\n",
    "println(\"Card has loop size 8: ${testCardPublicKeyToLoopSize == 8}\")\n",
    "println(\"Door has loop size 11: ${testDoorPublicKeyToLoopSize == 11}\")"
   ]
  },
  {
   "cell_type": "markdown",
   "metadata": {},
   "source": [
    "With this method we can determine the loop size for our keycard or door. We don't really need both (one is enough), but for the sake of showing that both work, we'll do it with both."
   ]
  },
  {
   "cell_type": "code",
   "execution_count": 5,
   "metadata": {},
   "outputs": [
    {
     "name": "stdout",
     "output_type": "stream",
     "text": [
      "Our card loop size: 18150032\n",
      "Our door loop size: 19814867\n"
     ]
    }
   ],
   "source": [
    "val loopSizeCard = publicKeyToLoopSize(cardPublicKey)\n",
    "val loopSizeDoor = publicKeyToLoopSize(doorPublicKey)\n",
    "\n",
    "println(\"Our card loop size: $loopSizeCard\")\n",
    "println(\"Our door loop size: $loopSizeDoor\")"
   ]
  },
  {
   "cell_type": "markdown",
   "metadata": {},
   "source": [
    "## Public key + loop size -> encryption key"
   ]
  },
  {
   "cell_type": "markdown",
   "metadata": {},
   "source": [
    "This procedure is also described in detail by the task. We start with a current value of 1 and multiply + modulo it `loop size`-times."
   ]
  },
  {
   "cell_type": "code",
   "execution_count": 6,
   "metadata": {},
   "outputs": [],
   "source": [
    "fun publicKeyToEncryptionKey(iterations: Int, publicKey: Int): Long {\n",
    "    val publicKeyAsLong = publicKey.toLong()\n",
    "    var currentValue = 1L\n",
    "    repeat(iterations) {\n",
    "        currentValue *= publicKeyAsLong\n",
    "        currentValue %= 20201227\n",
    "    }\n",
    "\n",
    "    return currentValue\n",
    "}"
   ]
  },
  {
   "cell_type": "markdown",
   "metadata": {},
   "source": [
    "Ensuring that this method works as intended:"
   ]
  },
  {
   "cell_type": "code",
   "execution_count": 7,
   "metadata": {},
   "outputs": [
    {
     "name": "stdout",
     "output_type": "stream",
     "text": [
      "Card loop size + door public key lead to encryption key 14897079: true\n",
      "Door loop size + card public key lead to encryption key 14897079: true\n"
     ]
    }
   ],
   "source": [
    "val referenceEncryptionKey = 14897079L\n",
    "\n",
    "println(\"Card loop size + door public key lead to encryption key $referenceEncryptionKey: \" +\n",
    "        \"${publicKeyToEncryptionKey(testCardPublicKeyToLoopSize, 17807724) == referenceEncryptionKey}\")\n",
    "\n",
    "println(\"Door loop size + card public key lead to encryption key $referenceEncryptionKey: \" +\n",
    "        \"${publicKeyToEncryptionKey(testDoorPublicKeyToLoopSize, 5764801) == referenceEncryptionKey}\")"
   ]
  },
  {
   "cell_type": "markdown",
   "metadata": {},
   "source": [
    "Thus we can determine our encryption key:"
   ]
  },
  {
   "cell_type": "code",
   "execution_count": 8,
   "metadata": {},
   "outputs": [
    {
     "name": "stdout",
     "output_type": "stream",
     "text": [
      "Card loop size + door public key lead to encryption key 15944518\n",
      "Door loop size + card public key lead to encryption key 15944518\n",
      "Both keys are the same: true\n"
     ]
    }
   ],
   "source": [
    "val encryptionKeyWithCardLoop = publicKeyToEncryptionKey(loopSizeCard, doorPublicKey)\n",
    "val encryptionKeyWithDoorLoop = publicKeyToEncryptionKey(loopSizeDoor, cardPublicKey)\n",
    "\n",
    "println(\"Card loop size + door public key lead to encryption key $encryptionKeyWithCardLoop\")\n",
    "\n",
    "println(\"Door loop size + card public key lead to encryption key $encryptionKeyWithDoorLoop\")\n",
    "\n",
    "println(\"Both keys are the same: ${encryptionKeyWithCardLoop == encryptionKeyWithDoorLoop}\")"
   ]
  }
 ],
 "metadata": {
  "kernelspec": {
   "display_name": "Kotlin",
   "language": "kotlin",
   "name": "kotlin"
  },
  "language_info": {
   "codemirror_mode": "text/x-kotlin",
   "file_extension": ".kt",
   "mimetype": "text/x-kotlin",
   "name": "kotlin",
   "pygments_lexer": "kotlin",
   "version": "1.4.30-dev-3354"
  }
 },
 "nbformat": 4,
 "nbformat_minor": 4
}
